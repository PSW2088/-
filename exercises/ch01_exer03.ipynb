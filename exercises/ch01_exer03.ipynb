{
 "cells": [
  {
   "cell_type": "markdown",
   "metadata": {
    "slideshow": {
     "slide_type": "skip"
    }
   },
   "source": [
    "[![Open In Colab](https://colab.research.google.com/assets/colab-badge.svg)](https://colab.research.google.com/github/SeoulTechPSE/EngMath/blob/master/exercises/ch01_exer03.ipynb)"
   ]
  },
  {
   "cell_type": "markdown",
   "metadata": {
    "slideshow": {
     "slide_type": "slide"
    }
   },
   "source": [
    "**5.** $\\text{ }$ A cup of coffee cools according to Newton's law of cooling. Use data from the graph of the temperature $T(t)$ in figure to estimate the constants $T_m$, $T_0$, and $k$ in a model of the form of the first-order initial-value problem\n",
    "\n",
    ">$\\displaystyle \\frac{dT}{dt}=k(T -T_m), \\;\\;T(0)=T_0$\n",
    "\n",
    "><img src=\"figs/ch01_exer01.png\" width=\"200\">\n",
    "\n",
    "$\\text{ }$ **solution**\n",
    "\n",
    ">$\\begin{align*}\n",
    " \\frac{dT}{dt} &=k(T -T_m), \\;\\;T(0)=T_0 \\\\ \n",
    " &\\Downarrow \\\\ \n",
    " T(0) &= T_0 \\\\\n",
    " T(\\infty) &= T_m \\\\\n",
    " \\text{plot }\\ln \\left( \\frac{T -T_m}{T_0 -T_m} \\right) &\\text{ vs. } t \\;\\rightarrow \\; k \\\\\n",
    "\\end{align*}$"
   ]
  }
 ],
 "metadata": {
  "celltoolbar": "Slideshow",
  "kernelspec": {
   "display_name": "Python 3 (ipykernel)",
   "language": "python",
   "name": "python3"
  },
  "language_info": {
   "codemirror_mode": {
    "name": "ipython",
    "version": 3
   },
   "file_extension": ".py",
   "mimetype": "text/x-python",
   "name": "python",
   "nbconvert_exporter": "python",
   "pygments_lexer": "ipython3",
   "version": "3.8.12"
  }
 },
 "nbformat": 4,
 "nbformat_minor": 4
}
