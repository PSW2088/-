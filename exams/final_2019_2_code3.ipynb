{
 "cells": [
  {
   "cell_type": "code",
   "execution_count": null,
   "metadata": {},
   "outputs": [],
   "source": [
    "%matplotlib inline\n",
    "import numpy as np\n",
    "import matplotlib.pyplot as plt\n",
    "\n",
    "term_no = 10\n",
    "def u_sol(r, theta, term_no):\n",
    "   \n",
    "    u = 1.0 /np.pi +0.5 *r *np.sin(theta)\n",
    "    for m in range(1, term_no):\n",
    "        u -= 2.0 /np.pi *np.power(r, 2*m) /(np.power(2*m, 2) -1) *np.cos(2*m *theta)\n",
    "\n",
    "    return u\n",
    "\n",
    "azimuths = np.radians(np.linspace(0, 360, 180))\n",
    "zeniths = np.linspace(0, 1, 50)\n",
    "\n",
    "r, theta = np.meshgrid(zeniths, azimuths)\n",
    "usol = u_sol(r, theta, term_no)\n",
    "\n",
    "fig, ax = plt.subplots(figsize=(10, 5), subplot_kw=dict(projection='polar'))\n",
    "cs = ax.contourf(theta, r, usol, 50)\n",
    "cbar = fig.colorbar(cs)\n",
    "\n",
    "#plt.show()"
   ]
  }
 ],
 "metadata": {
  "kernelspec": {
   "display_name": "Python 3",
   "language": "python",
   "name": "python3"
  },
  "language_info": {
   "codemirror_mode": {
    "name": "ipython",
    "version": 3
   },
   "file_extension": ".py",
   "mimetype": "text/x-python",
   "name": "python",
   "nbconvert_exporter": "python",
   "pygments_lexer": "ipython3",
   "version": "3.7.5"
  }
 },
 "nbformat": 4,
 "nbformat_minor": 4
}
