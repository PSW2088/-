{
 "cells": [
  {
   "cell_type": "code",
   "execution_count": null,
   "metadata": {},
   "outputs": [],
   "source": [
    "%matplotlib inline\n",
    "import numpy as np\n",
    "from scipy import integrate\n",
    "import matplotlib.pyplot as plt\n",
    "from matplotlib import animation, rc\n",
    "rc('animation', html='html5')"
   ]
  },
  {
   "cell_type": "code",
   "execution_count": null,
   "metadata": {},
   "outputs": [],
   "source": [
    "fig = plt.figure(figsize=(6, 4))\n",
    "ax = plt.axes(xlim=(0, 10), ylim=(-1.2, 1.2))\n",
    "\n",
    "ax.set_xticks([0.0, 2.0, 4.0, 6.0, 8.0, 10.0])\n",
    "ax.set_yticks([-1.2, -0.6, 0.0, 0.6, 1.2])\n",
    "ax.set_xlabel('$x$')\n",
    "ax.set_ylabel('$u(x,t)$')\n",
    "\n",
    "plt.close()"
   ]
  },
  {
   "cell_type": "code",
   "execution_count": null,
   "metadata": {},
   "outputs": [],
   "source": [
    "line, = ax.plot([], [], lw=2)\n",
    "def init():\n",
    "    line.set_data([], [])\n",
    "    return (line,)\n",
    "\n",
    "def u_sol(x, t):   \n",
    "    f = lambda tau : np.sin(t -tau) *x/(2*np.sqrt(np.pi *np.power(tau, 3))) *np.exp(-x*x/(4.0 *tau))   \n",
    "    y, _ = integrate.quad(f, 0, t)\n",
    "    \n",
    "    return y\n",
    "    \n",
    "def animate(t):\n",
    "    \n",
    "    xx = np.linspace(0, 10, 300)   \n",
    "    uu = np.zeros_like(xx)\n",
    "    \n",
    "    for i, x in enumerate(xx):\n",
    "        uu[i] = u_sol(x, t)\n",
    "                          \n",
    "    line.set_data(xx, uu)\n",
    "    ax.legend([f't = {t:.2f}'])\n",
    "    return (line,)\n",
    "\n",
    "tt = list(np.linspace(np.finfo(float).eps, 6.0 *np.pi, 30))\n",
    "anim = animation.FuncAnimation(fig, animate, init_func=init, frames=tt, interval=600, blit=True)"
   ]
  }
 ],
 "metadata": {
  "kernelspec": {
   "display_name": "Python 3",
   "language": "python",
   "name": "python3"
  },
  "language_info": {
   "codemirror_mode": {
    "name": "ipython",
    "version": 3
   },
   "file_extension": ".py",
   "mimetype": "text/x-python",
   "name": "python",
   "nbconvert_exporter": "python",
   "pygments_lexer": "ipython3",
   "version": "3.7.5"
  }
 },
 "nbformat": 4,
 "nbformat_minor": 4
}
