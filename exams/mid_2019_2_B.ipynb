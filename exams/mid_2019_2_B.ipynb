{
 "cells": [
  {
   "cell_type": "markdown",
   "metadata": {},
   "source": [
    "[![Open In Colab](https://colab.research.google.com/assets/colab-badge.svg)](https://colab.research.google.com/github/SeoulTechPSE/EngMath/blob/master/exams/mid_2019_2_B.ipynb)"
   ]
  },
  {
   "cell_type": "markdown",
   "metadata": {},
   "source": [
    "## Engineering Mathematics II – Mid. Exam."
   ]
  },
  {
   "cell_type": "markdown",
   "metadata": {},
   "source": [
    "**1** $\\text{ }$ Use the Gram-Schmidt orthogonalization process to construct an orthonormal basis for the subspace\n",
    "\n",
    ">$\\mathbf{u}_1 = \\left \\langle 1, 5, 2 \\right \\rangle, \\;\\; \\mathbf{u}_2 = \\left \\langle -2, 1, 1 \\right \\rangle$\n",
    "\n",
    ">**solution**\n",
    "\n",
    ">$\\begin{align*}\n",
    " \\mathbf{v}_1 &= \\mathbf{u}_1 =\\left \\langle 1,5,2 \\right \\rangle\\\\ \n",
    " \\mathbf{v}_2 &= \\mathbf{u}_2 \n",
    "   -\\left(\\frac{\\mathbf{u_2}\\cdot \\mathbf{u}_1}{\\mathbf{u}_1\\cdot \\mathbf{u}_1} \\right)\\mathbf{u}_1 \n",
    "  = \\left \\langle -2,1,1 \\right \\rangle -\\frac{1}{6} \\left \\langle 1,5,2 \\right \\rangle \n",
    "  = \\frac{1}{6}\\left \\langle -13,1,4 \\right \\rangle\\\\ \n",
    " &\\Downarrow \\\\ \n",
    " \\mathbf{w}_1&= \\frac{\\mathbf{v}_1}{\\left \\| \\mathbf{v}_1 \\right \\|}\n",
    "  =\\frac{1}{\\sqrt{30}} \\left \\langle 1,5,2 \\right \\rangle \\\\\n",
    " \\mathbf{w}_2&= \\frac{\\mathbf{v}_2}{\\left \\| \\mathbf{v}_2 \\right \\|}\n",
    "  =\\frac{1}{\\sqrt{186}} \\left \\langle -13,1,4 \\right \\rangle\n",
    "\\end{align*}$"
   ]
  },
  {
   "cell_type": "markdown",
   "metadata": {},
   "source": [
    "**2** $\\text{ }$ Determine whether the vectors $\\mathbf{a} = 4\\,\\mathbf{i} +6\\, \\mathbf{j}$, $\\mathbf{b} = -2\\,\\mathbf{i} +6\\, \\mathbf{j} -6\\, \\mathbf{k}$, and $\\mathbf{c} = \\frac{5}{2}\\,\\mathbf{i} +3\\, \\mathbf{j} +\\frac{1}{2}\\, \\mathbf{k}$ are coplanar\n",
    "\n",
    ">**solution**\n",
    "\n",
    ">$\\begin{vmatrix}\n",
    " 4 & 6 & \\;\\;\\,0\\\\ \n",
    " -2\\;\\;\\,& 6 & -6\\\\ \n",
    " \\frac{5}{2} & 3 & \\;\\;\\,\\frac{1}{2}\n",
    "\\end{vmatrix} = 0 \\;\\;\\Rightarrow\\;\\; \\text{coplaner}$"
   ]
  },
  {
   "cell_type": "markdown",
   "metadata": {},
   "source": [
    "**3.** $\\text{ }$ Let $\\mathbf{a}$ be a constant vector and $\\mathbf{r}=x\\,\\mathbf{i} +y\\,\\mathbf{j} +z\\,\\mathbf{k}$. Evaluate the following equations:\n",
    "\n",
    ">$\\nabla \\times (\\mathbf{a} \\times \\mathbf{r}),\\;\\; \\nabla \\cdot (\\mathbf{a} \\times \\mathbf{r})$\n",
    "\n",
    ">**solution**\n",
    "\n",
    ">$\\mathbf{a} \\times \\mathbf{r}=\n",
    "\\begin{vmatrix}\n",
    " \\mathbf{i} & \\mathbf{j} & \\mathbf{k} \\\\ \n",
    " a_1 & a_2 & a_3\\\\ \n",
    " x & y &z\n",
    "\\end{vmatrix} = (a_2 z - a_3 y)\\,\\mathbf{i} -(a_1 z - a_3 x)\\,\\mathbf{j} +(a_1 y - a_2 x)\\,\\mathbf{k}$\n",
    "\n",
    ">$\\begin{align*}\n",
    " \\nabla \\times (\\mathbf{a} \\times \\mathbf{r})&= \\begin{vmatrix}\n",
    " \\mathbf{i} & \\mathbf{j} & \\mathbf{k} \\\\ \n",
    " \\frac{\\partial }{\\partial x} & \\frac{\\partial }{\\partial y} & \\frac{\\partial }{\\partial z}\\\\ \n",
    " (a_2 z - a_3y) & -(a_1 z - a_3 x) & (a_1 y - a_2 x)\n",
    "\\end{vmatrix} = 2\\mathbf{a} \n",
    "\\end{align*}$\n",
    "\n",
    ">$\\begin{align*}\n",
    " \\nabla \\cdot(\\mathbf{a} \\times \\mathbf{r})&= \\frac{\\partial }{\\partial x} (a_2 z - a_3y) -\\frac{\\partial }{\\partial y}(a_1 z - a_3 x) +\\frac{\\partial }{\\partial z} (a_1 y - a_2 x) = 0\n",
    "\\end{align*}\n",
    "$"
   ]
  },
  {
   "cell_type": "markdown",
   "metadata": {},
   "source": [
    "**4.** $\\text{ }$ Evaluate $\\displaystyle \\iint_S \\mathbf{F} \\cdot \\mathbf{n} \\,dS$, where $\\mathbf{F}=x^2y\\,\\mathbf{i} +(x +y^2)\\,\\mathbf{j} +xy^2z \\,\\mathbf{k}$; $C$ the boundary of the surface shown in\n",
    "\n",
    "![figure1](./figs/mid_2019_2_B_1.png)\n",
    "\n",
    ">**solution**\n",
    "\n",
    ">$\\begin{align*}\n",
    " \\mathbf{n}&= \\frac{\\nabla g}{\\left\\| \\nabla g\\right\\|}=\\frac{1}{\\sqrt{1 +4y^2}}(2y\\,\\mathbf{j} +\\mathbf{k})\\\\ \n",
    " &\\Downarrow \\\\\n",
    " \\iint_S \\mathbf{F} \\cdot \\mathbf{n} \\,dS &= \\iint_S \\frac{1}{\\sqrt{1 +4y^2}}\\left( 2xy +2y^3 +xy^2z \\right) \\,dS = \\int_0^3 \\int_0^{\\frac{y}{2}} \\frac{1}{\\sqrt{1 +4y^2}}\\left(2xy +9xy^2 +2y^3 -xy^4\\right) \\,\\sqrt{1 +4y^2}\\,dx dy =\\frac{38799}{560} \\approx 69.3\n",
    "\\end{align*}$"
   ]
  },
  {
   "cell_type": "markdown",
   "metadata": {},
   "source": [
    "**5.** $\\text{ }$ (a) Find the Fourier series of  on the given interval\n",
    "\n",
    ">$f(x) = \\begin{cases}\n",
    " \\,0 & -\\pi < x< 0 \\\\ \n",
    " x^2 & \\;\\;0 \\leq x <\\pi \n",
    "\\end{cases}$\n",
    "\n",
    ">**solution**\n",
    "\n",
    ">$\\begin{align*}\n",
    " f(x)&= \\frac{a_0}{2} + \\sum_{n=1}^\\infty \\left(a_n \\cos nx +b_n \\sin nx \\right ) \\\\ \n",
    " \\text{wher}&\\text{e} \\\\ \n",
    " a_0 &=\\frac{1}{\\pi} \\int_{-\\pi}^\\pi f(x) \\,dx =\\frac{1}{\\pi} \\int_0^\\pi x^2 \\,dx = \\frac{\\;\\pi^2}{3} \\\\ \n",
    " a_n &=\\frac{1}{\\pi}\\int_{-\\pi}^\\pi f(x) \\cos nx \\,dx =\\frac{1}{\\pi}\\int_{0}^\\pi x^2 \\cos nx \\,dx \n",
    "  =\\frac{2}{n^2} (-1)^n\\\\ \n",
    " b_n &=\\frac{1}{\\pi} \\int_{-\\pi}^\\pi f(x) \\sin nx\\, dx = \\frac{1}{\\pi} \\int_{0}^\\pi x^2 \\sin nx\\, dx \n",
    "  = -\\frac{\\pi}{n}(-1)^{n} -\\frac{2}{n^3\\pi}\\left[1 -(-1)^n \\right ]\\\\\n",
    " &\\Downarrow \\\\\n",
    " f(x) &= \\frac{\\;\\pi^2}{6} +\\sum_{n=1}^\\infty \\frac{2}{n^2} (-1)^n\\cos nx -\\sum_{n=1}^\\infty \\left\\{\\frac{\\pi}{n}(-1)^{n} +\\frac{2}{n^3\\pi}\\left[1 -(-1)^n \\right ] \\right\\} \\sin nx\n",
    "\\end{align*}$\n",
    "\n",
    "$\\text{ }\\;\\;\\;\\;$ (b) Use the result of (a) to evaluate the following series:\n",
    "\n",
    ">$\\begin{align*}\n",
    " 1 +\\frac{1}{2^2} +\\frac{1}{3^2} +\\frac{1}{4^2} +\\cdots \\\\ \n",
    " 1 -\\frac{1}{2^2} +\\frac{1}{3^2} -\\frac{1}{4^2} +\\cdots \n",
    "\\end{align*}$\n",
    "\n",
    ">**solution**\n",
    "\n",
    ">$\\begin{align*}\n",
    " f(x) &= \\frac{\\;\\pi^2}{6} +\\sum_{n=1}^\\infty \\frac{2}{n^2} (-1)^n\\cos nx -\\sum_{n=1}^\\infty \\left\\{\\frac{\\pi}{n}(-1)^{n} +\\frac{2}{n^3\\pi}\\left[1 -(-1)^n \\right ] \\right\\} \\sin nx \\\\\n",
    " &\\Downarrow \\;\\;x = \\pi \\\\ \n",
    " \\frac{\\,\\pi^2}{2} &= \\frac{\\;\\pi^2}{6} +\\sum_{n=1}^\\infty \\frac{2}{n^2} \\;\\;\\Rightarrow \\;\\; \n",
    "  \\sum_{n=1}^\\infty \\frac{1}{n^2} =\\frac{\\,\\pi^2}{6}  \\\\\n",
    " &\\Downarrow \\;\\;x = 0 \\\\ \n",
    " 0 &= \\frac{\\;\\pi^2}{6} +\\sum_{n=1}^\\infty \\frac{2}{n^2} (-1)^n \\;\\;\\Rightarrow \\;\\; -\\sum_{n=1}^\\infty \\frac{1}{n^2}   (-1)^n = \\frac{\\;\\pi^2}{12}\n",
    "\\end{align*}$"
   ]
  },
  {
   "cell_type": "markdown",
   "metadata": {},
   "source": [
    "**6.** Find the eigenvalues and eigenfunctions of the boundary-value problem\n",
    "\n",
    ">$\\displaystyle x^2 y'' +xy' +9\\lambda y = 0, \\;\\; y'(1)=0,\\;\\;y(e)=0$\n",
    "\n",
    "$\\text{ }\\;$ Give an orthogonality relation for the eigenfunctions\n",
    "\n",
    ">**solution**\n",
    "\n",
    ">$\\begin{align*}\n",
    " x^2 y'' &+xy' +9\\lambda y = 0 \\\\ \n",
    " &\\Downarrow\\;  y=x^r\\\\ \n",
    " r^2 +9\\lambda = 0\\;\\;&\\Rightarrow \\;\\;r =\\pm 3\\sqrt{\\lambda} i \\\\ \n",
    " &\\Downarrow \\\\ \n",
    " y(x) = c_1 \\cos \\left( 3\\sqrt{\\lambda} \\ln x \\right)&+c_2 \\sin \\left( 3\\sqrt{\\lambda} \\ln x \\right) \\\\\n",
    " &\\Downarrow\\; y'(1) = 0, \\;\\;y(e)=0 \\\\\n",
    " y'(1)= c_2 3\\sqrt{\\lambda} = 0 &\\;\\;\\Rightarrow \\;\\; c_2 = 0 \\\\\n",
    " y(e)=c_1\\cos 3\\sqrt{\\lambda} = 0 &\\;\\;\\Rightarrow \\;\\; \\lambda_n = \\frac{1}{36} (2n -1)^2 \\pi^2, \\;\\;n =1,2,3,\\cdots \\\\\n",
    " &\\Downarrow \\\\\n",
    " y_n(x) &= \\cos \\left(\\frac{2n -1}{2}\\pi \\ln x \\right)\n",
    "\\end{align*}$"
   ]
  },
  {
   "cell_type": "markdown",
   "metadata": {},
   "source": [
    ">$\\begin{align*}\n",
    " x^2 y'' &+xy' +9\\lambda y = 0 \\\\ \n",
    " &\\Downarrow\\;  \\times \\,1/x\\\\ \n",
    " xy'' &+y' +\\frac{9\\lambda}{x} y = 0 \\\\ \n",
    " &\\Downarrow \\\\ \n",
    " \\frac{d}{dx} \\left[ x\\frac{dy}{dx} \\right] &+\\frac{9\\lambda}{x} y = 0 \\\\\n",
    "  &\\Downarrow \\\\\n",
    " \\int_1^e \\frac{1}{x} \\cos \\left(\\frac{2m -1}{2}\\pi \\ln x \\right) &\\,\\cos \\left(\\frac{2n -1}{2}\\pi \\ln x \\right) \\,dx =0 \\;\\;\\text{when } m \\neq n\n",
    "\\end{align*}$"
   ]
  }
 ],
 "metadata": {
  "kernelspec": {
   "display_name": "Python 3",
   "language": "python",
   "name": "python3"
  },
  "language_info": {
   "codemirror_mode": {
    "name": "ipython",
    "version": 3
   },
   "file_extension": ".py",
   "mimetype": "text/x-python",
   "name": "python",
   "nbconvert_exporter": "python",
   "pygments_lexer": "ipython3",
   "version": "3.7.4"
  }
 },
 "nbformat": 4,
 "nbformat_minor": 4
}
