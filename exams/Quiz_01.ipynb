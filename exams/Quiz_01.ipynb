{
 "cells": [
  {
   "cell_type": "markdown",
   "metadata": {},
   "source": [
    "[![Open In Colab](https://colab.research.google.com/assets/colab-badge.svg)](https://colab.research.google.com/github/SeoulTechPSE/EngMath/blob/master/exams/Quiz_01.ipynb)"
   ]
  },
  {
   "cell_type": "markdown",
   "metadata": {},
   "source": [
    "## Quiz "
   ]
  },
  {
   "cell_type": "markdown",
   "metadata": {},
   "source": [
    "Find the solution of the initial-boundary value problem:\n",
    "\n",
    ">$\\begin{align*}\n",
    " &u_t = u_{xx} +f(x,t), \\;\\; 0 \\leq x \\leq L, \\;\\; 0 \\leq t \\\\ \n",
    " &u(0,t) = 0\\\\ \n",
    " &u(L,t) = 0\\\\ \n",
    " &u(x,0) = \\phi(x)\n",
    "\\end{align*}$"
   ]
  },
  {
   "cell_type": "markdown",
   "metadata": {},
   "source": [
    "**Solution**"
   ]
  },
  {
   "cell_type": "markdown",
   "metadata": {},
   "source": [
    ">$\\begin{align*}\n",
    " &\\;\\;\\;\\;\\Downarrow {\\scriptstyle \\text{Superposition Principle}} \\\\\n",
    " &v_t = v_{xx}, \\;\\; 0 \\leq x \\leq L, \\;\\; 0 \\leq t \\\\ \n",
    " &v(0,t) = 0\\\\ \n",
    " &v(L,t) = 0\\\\ \n",
    " &v(x,0) = \\phi(x) \\\\\n",
    " &\\;\\;\\;\\;+ \\\\\n",
    " &w_t = w_{xx} +f(x,t), \\;\\; 0 \\leq x \\leq L, \\;\\; 0 \\leq t \\\\ \n",
    " &w(0,t) = 0\\\\ \n",
    " &w(L,t) = 0\\\\ \n",
    " &w(x,0) = 0\\\\\n",
    " &\\;\\;\\;\\;\\Downarrow\\\\\n",
    " &u(x,t) = v(x,t) +w(x,t)\\\\ \n",
    "\\end{align*}$"
   ]
  },
  {
   "cell_type": "markdown",
   "metadata": {},
   "source": [
    "where\n",
    "\n",
    ">$\\begin{align*}\n",
    " v(x,t) &= \\sum_{n=1}^\\infty a_n \\exp\\left[ -\\left(\\frac{n\\pi}{L}\\right)^2t\\right]\\sin\\frac{n\\pi x}{L}, \\;\\;a_n = \\frac{2}{L} \\int_0^L \\phi(x) \\sin \\frac{n\\pi x}{L}\\,dx \\\\\n",
    " w(x,t) &= \\sum_{n=1}^\\infty W_n(t) \\sin\\frac{n\\pi x}{L}, \\;\\; \n",
    "  W_n(t) =\\int_0^t \\exp \\left[-\\left( \\frac{n\\pi}{L} \\right)^2 (t -\\tau)  \\right] f_n(\\tau) \\,d\\tau, \\;\\;\n",
    "  f_n(t) = \\frac{2}{L} \\int_0^L f(x, t) \\sin \\frac{n\\pi x}{L}\\,dx\n",
    "\\end{align*}$"
   ]
  }
 ],
 "metadata": {
  "kernelspec": {
   "display_name": "Python 3",
   "language": "python",
   "name": "python3"
  },
  "language_info": {
   "codemirror_mode": {
    "name": "ipython",
    "version": 3
   },
   "file_extension": ".py",
   "mimetype": "text/x-python",
   "name": "python",
   "nbconvert_exporter": "python",
   "pygments_lexer": "ipython3",
   "version": "3.7.5"
  }
 },
 "nbformat": 4,
 "nbformat_minor": 4
}
