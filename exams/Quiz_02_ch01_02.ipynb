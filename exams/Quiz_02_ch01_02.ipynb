{
 "cells": [
  {
   "cell_type": "markdown",
   "metadata": {
    "slideshow": {
     "slide_type": "skip"
    }
   },
   "source": [
    "[![Open In Colab](https://colab.research.google.com/assets/colab-badge.svg)](https://colab.research.google.com/github/SeoulTechPSE/EngMath/blob/master/exams/Quiz_02_ch01_02.ipynb)"
   ]
  },
  {
   "cell_type": "markdown",
   "metadata": {
    "slideshow": {
     "slide_type": "slide"
    }
   },
   "source": [
    "## Quiz - March 31, 2020"
   ]
  },
  {
   "cell_type": "markdown",
   "metadata": {
    "slideshow": {
     "slide_type": "slide"
    }
   },
   "source": [
    "**1.** $\\text{ }$ $y= -x \\ln |x| +cx\\;$ is a one-parameter family of solutions to the DE $x \\frac{dy}{dx}=y-x$. Which of the following is the largest interval of existence for a solution to the IVP $y(2)=-7$"
   ]
  },
  {
   "cell_type": "markdown",
   "metadata": {
    "slideshow": {
     "slide_type": "fragment"
    }
   },
   "source": [
    "**Solution**\n",
    "\n",
    "\\begin{align*}\n",
    " &\\;\\;\\;\\;\\Downarrow {\\scriptstyle \\text{Standard form, } x\\,>\\,0 \\text{ or }  x\\,<\\,0} \\\\\n",
    " &\\frac{dy}{dx} -\\frac{1}{x} y=-1 \\\\ \n",
    " &\\;\\;\\;\\;\\Downarrow {\\scriptstyle \\text{Initial condition, } y(2)=-7} \\\\\n",
    " c &= \\ln 2 -\\frac{7}{2}, \\;\\; x\\,>\\, 0\n",
    "\\end{align*}"
   ]
  },
  {
   "cell_type": "markdown",
   "metadata": {
    "slideshow": {
     "slide_type": "slide"
    }
   },
   "source": [
    "**2.** $\\text{ }$ Classify the following differential equation by order and linearity.\n",
    "\n",
    "$$\\ddot{x} -\\left(1 -(\\dot{x})^3 \\right)\\dot{x} +x = 2$$"
   ]
  },
  {
   "cell_type": "markdown",
   "metadata": {
    "slideshow": {
     "slide_type": "fragment"
    }
   },
   "source": [
    "**Solution** $\\text{ }$ Second-order nonlinear"
   ]
  },
  {
   "cell_type": "markdown",
   "metadata": {
    "slideshow": {
     "slide_type": "slide"
    }
   },
   "source": [
    "**3.** $\\text{ }$ A solution to an initial value problem is always defined on $(-\\infty, \\infty)$"
   ]
  },
  {
   "cell_type": "markdown",
   "metadata": {
    "slideshow": {
     "slide_type": "fragment"
    }
   },
   "source": [
    "**Solution** $\\text{ }$ False"
   ]
  },
  {
   "cell_type": "markdown",
   "metadata": {
    "slideshow": {
     "slide_type": "slide"
    }
   },
   "source": [
    "**4.** $\\text{ }$ Which of the following is an example of a separable differential equation?\n",
    "\n",
    "1. $\\displaystyle x \\tan^{-1} y \\frac{dy}{dx} = e^{x+y}$ \n",
    "2. $y'=\\sin xy$\n",
    "3. $\\displaystyle (1 +x^2) \\frac{dy}{dx}=\\sqrt{x+y}$\n",
    "4. $\\displaystyle y'=\\frac{1}{x +y}$"
   ]
  },
  {
   "cell_type": "markdown",
   "metadata": {
    "slideshow": {
     "slide_type": "fragment"
    }
   },
   "source": [
    "**Solution** $\\text{ }$ 1"
   ]
  },
  {
   "cell_type": "markdown",
   "metadata": {
    "slideshow": {
     "slide_type": "slide"
    }
   },
   "source": [
    "**5.** $\\text{ }$ The general solution of the differential equation $5\\frac{dy}{dx}+30y=6\\;$ is"
   ]
  },
  {
   "cell_type": "markdown",
   "metadata": {
    "slideshow": {
     "slide_type": "fragment"
    }
   },
   "source": [
    "**Solution**\n",
    "\n",
    "\\begin{align*}\n",
    " &\\;\\;\\;\\;\\Downarrow {\\scriptstyle \\text{Standard form}} \\\\\n",
    " & \\frac{dy}{dx}+6y=\\frac{6}{5} \\\\\n",
    " &\\;\\;\\;\\;\\Downarrow {\\scriptstyle \\text{Mutiply by the integral factor, } e^{6x} } \\\\\n",
    " &\\frac{d}{dx}\\left(e^{6x}y \\right)=\\frac{6}{5}e^{6x} \\\\ \n",
    " &\\;\\;\\;\\;\\Downarrow \\\\\n",
    " y &= c e^{-6x} +\\frac{1}{5}\n",
    "\\end{align*}"
   ]
  },
  {
   "cell_type": "markdown",
   "metadata": {
    "slideshow": {
     "slide_type": "slide"
    }
   },
   "source": [
    "**6.** Which of the following is a homogeneous differential equation?\n",
    "\n",
    "1. $\\displaystyle \\frac{dy}{dx} = \\frac{2x +7y}{7x +2y}$\n",
    "1. $(y^2 +x)\\, dx = (x +y^2)\\, dy$\n",
    "1. $\\displaystyle \\frac{dy}{dx} +x^2 y = xy^2$\n",
    "1. $(x^2 +y^2)\\,dy -x^4 \\,dx=0$"
   ]
  },
  {
   "cell_type": "markdown",
   "metadata": {
    "slideshow": {
     "slide_type": "fragment"
    }
   },
   "source": [
    "**Solution** $\\text{ }$ 1"
   ]
  },
  {
   "cell_type": "markdown",
   "metadata": {
    "slideshow": {
     "slide_type": "slide"
    }
   },
   "source": [
    "**7.**  Which of the following differential equations is a Bernoulli equation?\n",
    "\n",
    "1. $3\\, dy =\\sin x \\,(y^2 -y) \\,dx$\n",
    "1. $(x^2 +y^2) \\,dy -2xy \\,dx = 0$\n",
    "1. $e^y\\, dx = 5 -\\sin y \\,dy$\n",
    "1. $\\displaystyle\\frac{dy}{dx}=\\ln y$"
   ]
  },
  {
   "cell_type": "markdown",
   "metadata": {
    "slideshow": {
     "slide_type": "fragment"
    }
   },
   "source": [
    "**Solution** $\\text{ }$ 1"
   ]
  },
  {
   "cell_type": "markdown",
   "metadata": {
    "slideshow": {
     "slide_type": "slide"
    }
   },
   "source": [
    "**8.** Find the critical point(s) of the differential equation\n",
    "\n",
    "$$\\frac{dV}{dt}=V\\sqrt{c + mV}$$\n",
    "\n",
    "where $c$ and $m$ are nonzero constants."
   ]
  },
  {
   "cell_type": "markdown",
   "metadata": {
    "slideshow": {
     "slide_type": "fragment"
    }
   },
   "source": [
    "**Solution** $\\text{ }$ $\\displaystyle 0, \\;-\\frac{c}{m}$"
   ]
  },
  {
   "cell_type": "markdown",
   "metadata": {
    "slideshow": {
     "slide_type": "slide"
    }
   },
   "source": [
    "**9.** Rewrite the linear differential equation $\\displaystyle \\cos x \\,dy +y\\,\\sin x \\,dx = dx$  in the standard form of a linear differential equation"
   ]
  },
  {
   "cell_type": "markdown",
   "metadata": {
    "slideshow": {
     "slide_type": "fragment"
    }
   },
   "source": [
    "**Solution** $\\text{ }$ $\\displaystyle \\frac{dy}{dx} +\\tan x\\, y = \\sec x$"
   ]
  },
  {
   "cell_type": "markdown",
   "metadata": {
    "slideshow": {
     "slide_type": "slide"
    }
   },
   "source": [
    "**10.** Find the value of $k$ so that the differential equation\n",
    "\n",
    "$$\\left(8yt^5 +kt^2 e^{ty}\\right) \\,dy = \\left(\\frac{2}{t} -20 y^2 t^4 -ktye^{ty} -5e^{ty}\\right) \\,dt$$\n",
    "\n",
    "is exact."
   ]
  },
  {
   "cell_type": "markdown",
   "metadata": {
    "slideshow": {
     "slide_type": "fragment"
    }
   },
   "source": [
    "**Solution** $\\text{ }$ $k=5$"
   ]
  }
 ],
 "metadata": {
  "celltoolbar": "Slideshow",
  "kernelspec": {
   "display_name": "Python 3",
   "language": "python",
   "name": "python3"
  },
  "language_info": {
   "codemirror_mode": {
    "name": "ipython",
    "version": 3
   },
   "file_extension": ".py",
   "mimetype": "text/x-python",
   "name": "python",
   "nbconvert_exporter": "python",
   "pygments_lexer": "ipython3",
   "version": "3.7.5"
  }
 },
 "nbformat": 4,
 "nbformat_minor": 4
}
