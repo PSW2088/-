{
 "cells": [
  {
   "cell_type": "markdown",
   "metadata": {
    "slideshow": {
     "slide_type": "skip"
    }
   },
   "source": [
    "[![Open In Colab](https://colab.research.google.com/assets/colab-badge.svg)](https://colab.research.google.com/github/SeoulTechPSE/EngMath/blob/master/ch04.ipynb)"
   ]
  },
  {
   "cell_type": "code",
   "execution_count": 1,
   "metadata": {
    "slideshow": {
     "slide_type": "skip"
    }
   },
   "outputs": [],
   "source": [
    "# Rendering sympy equations requires MathJax to be available within each cell output. \n",
    "# The following is a function that will make this happen for Colab.\n",
    "\n",
    "if 'google.colab' in str(get_ipython()):\n",
    "    \n",
    "    from sympy import init_printing\n",
    "    from sympy.printing import latex\n",
    "\n",
    "    def colab_LaTeX_printer(exp, **options):\n",
    "        \n",
    "        from google.colab.output._publish import javascript \n",
    "\n",
    "        url_ = \"https://colab.research.google.com/static/mathjax/MathJax.js?\"\n",
    "        cfg_ = \"config=TeX-MML-AM_HTMLorMML\" # \"config=default\"\n",
    "\n",
    "        javascript(url=url_+cfg_)\n",
    "\n",
    "        return latex(exp, **options)\n",
    "\n",
    "    init_printing(use_latex=\"mathjax\", latex_printer=colab_LaTeX_printer) "
   ]
  },
  {
   "cell_type": "code",
   "execution_count": 2,
   "metadata": {
    "slideshow": {
     "slide_type": "skip"
    }
   },
   "outputs": [],
   "source": [
    "import sympy\n",
    "from sympy.integrals.transforms import laplace_transform, inverse_laplace_transform\n",
    "\n",
    "sympy.init_printing(use_unicode=True)"
   ]
  },
  {
   "cell_type": "markdown",
   "metadata": {
    "slideshow": {
     "slide_type": "slide"
    }
   },
   "source": [
    "# Chapter 4. The Laplace Transform"
   ]
  },
  {
   "cell_type": "markdown",
   "metadata": {
    "slideshow": {
     "slide_type": "fragment"
    }
   },
   "source": [
    "### Contents\n",
    "\n",
    "* Definition of the Laplace Transform\n",
    "* The Inverse Transform and Transforms of Derivatives\n",
    "* Translation Theorems\n",
    "* Additional Operational Properties\n",
    "* The Dirac Delta Function\n",
    "* Systems of Linear Differential Equations"
   ]
  },
  {
   "cell_type": "markdown",
   "metadata": {
    "slideshow": {
     "slide_type": "slide"
    }
   },
   "source": [
    "##  4.1 Definition of the Laplace Transform"
   ]
  },
  {
   "cell_type": "markdown",
   "metadata": {
    "slideshow": {
     "slide_type": "fragment"
    }
   },
   "source": [
    "* If $f$ be a function defined for $t \\geq 0$, $~$then the *integral*\n",
    "\n",
    " >$\\displaystyle\\mathcal{L}\\{f(t)\\} =\\int_0^\\infty f(t) e^{-st}\\, dt =F(s)$\n",
    "\n",
    " is the **Laplace Transform** of $f$ provided the integral converges. The result is a function of $s$\n",
    " \n",
    " **Example:** $\\text{ }$ Evaluate $\\mathcal{L}\\{1\\}$, $~\\mathcal{L}\\{t\\}$, $~$and $~\\mathcal{L}\\{e^{-3t}\\}$"
   ]
  },
  {
   "cell_type": "code",
   "execution_count": 3,
   "metadata": {
    "slideshow": {
     "slide_type": "fragment"
    }
   },
   "outputs": [],
   "source": [
    "s, t = sympy.symbols('s t')"
   ]
  },
  {
   "cell_type": "code",
   "execution_count": 4,
   "metadata": {
    "slideshow": {
     "slide_type": "fragment"
    }
   },
   "outputs": [
    {
     "data": {
      "image/png": "[encoded data removed]",
      "text/latex": [
       "$\\displaystyle \\frac{1}{s}$"
      ],
      "text/plain": [
       "1\n",
       "─\n",
       "s"
      ]
     },
     "execution_count": 4,
     "metadata": {},
     "output_type": "execute_result"
    }
   ],
   "source": [
    "laplace_transform(1, t, s)[0]"
   ]
  },
  {
   "cell_type": "code",
   "execution_count": 5,
   "metadata": {
    "slideshow": {
     "slide_type": "fragment"
    }
   },
   "outputs": [
    {
     "data": {
      "image/png": "[encoded data removed]",
      "text/latex": [
       "$\\displaystyle \\frac{1}{s^{2}}$"
      ],
      "text/plain": [
       "1 \n",
       "──\n",
       " 2\n",
       "s "
      ]
     },
     "execution_count": 5,
     "metadata": {},
     "output_type": "execute_result"
    }
   ],
   "source": [
    "laplace_transform(t, t, s)[0]"
   ]
  },
  {
   "cell_type": "code",
   "execution_count": 6,
   "metadata": {
    "slideshow": {
     "slide_type": "fragment"
    }
   },
   "outputs": [
    {
     "data": {
      "image/png": "[encoded data removed]",
      "text/latex": [
       "$\\displaystyle \\frac{1}{s + 3}$"
      ],
      "text/plain": [
       "  1  \n",
       "─────\n",
       "s + 3"
      ]
     },
     "execution_count": 6,
     "metadata": {},
     "output_type": "execute_result"
    }
   ],
   "source": [
    "laplace_transform(sympy.exp(-3*t), t, s)[0]"
   ]
  },
  {
   "cell_type": "markdown",
   "metadata": {
    "slideshow": {
     "slide_type": "subslide"
    }
   },
   "source": [
    " **Example:** $\\text{ }$ Evaluate $\\mathcal{L}\\{f(t)\\}$ for $\\displaystyle f(t) = \\left\\{\\begin{matrix}\n",
    "0, & 0 \\leq  t < 3\\\\ \n",
    "2, & \\;\\;\\;\\;\\;t \\geq 3\n",
    "\\end{matrix}\\right.$"
   ]
  },
  {
   "cell_type": "code",
   "execution_count": 7,
   "metadata": {
    "slideshow": {
     "slide_type": "fragment"
    }
   },
   "outputs": [
    {
     "data": {
      "image/png": "[encoded data removed]",
      "text/latex": [
       "$\\displaystyle \\frac{2 e^{- 3 s}}{s}$"
      ],
      "text/plain": [
       "   -3⋅s\n",
       "2⋅ℯ    \n",
       "───────\n",
       "   s   "
      ]
     },
     "execution_count": 7,
     "metadata": {},
     "output_type": "execute_result"
    }
   ],
   "source": [
    "laplace_transform(2*sympy.Heaviside(t -3), t, s)[0]"
   ]
  },
  {
   "cell_type": "markdown",
   "metadata": {
    "slideshow": {
     "slide_type": "slide"
    }
   },
   "source": [
    "* $\\mathcal{L}$ is a linear transform\n",
    "\n",
    "$$\\mathcal{L}\\{\\alpha f(t) +\\beta g(t)\\} = \\alpha \\mathcal{L} \\{f(t)\\} +\\beta\\mathcal{L}\\{g(t)\\} =\\alpha F(s) +\\beta G(s)$$"
   ]
  },
  {
   "cell_type": "markdown",
   "metadata": {
    "slideshow": {
     "slide_type": "fragment"
    }
   },
   "source": [
    "  **Example:** $\\text{ }$ Find $\\mathcal{L}\\{f(t)\\}$ by first using an appropriate trigonometric identity $f(t)=\\sin^2 2t$\n",
    "  \n",
    "  $~$"
   ]
  },
  {
   "cell_type": "code",
   "execution_count": 8,
   "metadata": {
    "slideshow": {
     "slide_type": "fragment"
    }
   },
   "outputs": [
    {
     "data": {
      "image/png": "[encoded data removed]",
      "text/latex": [
       "$\\displaystyle \\frac{8}{s \\left(s^{2} + 16\\right)}$"
      ],
      "text/plain": [
       "     8     \n",
       "───────────\n",
       "  ⎛ 2     ⎞\n",
       "s⋅⎝s  + 16⎠"
      ]
     },
     "execution_count": 8,
     "metadata": {},
     "output_type": "execute_result"
    }
   ],
   "source": [
    "laplace_transform(sympy.sin(2*t)**2, t, s)[0]"
   ]
  },
  {
   "cell_type": "markdown",
   "metadata": {
    "slideshow": {
     "slide_type": "slide"
    }
   },
   "source": [
    "### Exercises 4.1\n",
    "\n",
    "* Find $\\mathcal{L}\\{f(t)\\}$\n",
    "\n",
    "  $f(t)=\\left\\{\\begin{matrix}\n",
    " -1,& 0 \\leq t < 1\\\\ \n",
    " 1,& t \\geq 1\\;\\;\\;\\;\\;\\;\\,\n",
    "\\end{matrix}\\right.$\n",
    "\n",
    "  $f(t)=\\left\\{\\begin{matrix}\n",
    " t,& 0 \\leq t < 1\\\\ \n",
    " 1,& t \\geq 1\\;\\;\\;\\;\\,\n",
    "\\end{matrix}\\right.$\n",
    "\n",
    "  $f(t)=\\left\\{\\begin{matrix}\n",
    " \\sin t,& 0 \\leq t < \\pi\\\\ \n",
    " 1,& t \\geq \\pi\\;\\;\\;\\;\\;\\,\n",
    "\\end{matrix}\\right.$"
   ]
  },
  {
   "cell_type": "markdown",
   "metadata": {
    "slideshow": {
     "slide_type": "subslide"
    }
   },
   "source": [
    "* Find $\\mathcal{L}\\{f(t)\\}$\n",
    "\n",
    "  $f(t)=e^{t+7}$\n",
    "  \n",
    "  $f(t)=e^t \\cos t$\n",
    "  \n",
    "  $f(t)=t\\cos t$\n",
    "  \n",
    "  $~$\n",
    "* Find $\\mathcal{L}\\{f(t)\\}$ by first using a trigonometric identity\n",
    "\n",
    "  $f(t)=\\sin 3t \\cos 3t$\n",
    "  \n",
    "  $f(t)=\\sin^4 t$"
   ]
  },
  {
   "cell_type": "markdown",
   "metadata": {
    "slideshow": {
     "slide_type": "slide"
    }
   },
   "source": [
    "## 4.2 The Inverse Transform and Transforms of Derivatives"
   ]
  },
  {
   "cell_type": "markdown",
   "metadata": {
    "slideshow": {
     "slide_type": "fragment"
    }
   },
   "source": [
    "* If $F(s)$ represents the Laplace transform of $f(t)$, $~$then $f(t)$ is the **inverse Laplace transform** of $F(s)$\n",
    "\n",
    "  $$f(t)=\\mathcal{L}^{-1}\\{F(s)\\}$$\n",
    "  \n",
    "* $\\mathcal{L}^{-1}$ is a linear transform\n",
    "\n",
    "  $$\\mathcal{L}^{-1}\\{\\alpha F(s) +\\beta G(s)\\} = \\alpha \\mathcal{L}^{-1} \\{F(s)\\} +\\beta\\mathcal{L}^{-1}\\{G(s)\\} =\\alpha f(t) +\\beta g(t)$$\n",
    "  \n",
    "  **Example:** $\\text{ }$ Evaluate $\\displaystyle\\mathcal{L}^{-1}\\left\\{\\frac{-2s +6}{s^2 +4}\\right\\}$"
   ]
  },
  {
   "cell_type": "code",
   "execution_count": null,
   "metadata": {
    "slideshow": {
     "slide_type": "fragment"
    }
   },
   "outputs": [],
   "source": [
    "f = (-2*s +6)/(s**2 +4)\n",
    "inverse_laplace_transform(f, s, t) # theta(t) - unit step function"
   ]
  },
  {
   "cell_type": "markdown",
   "metadata": {
    "slideshow": {
     "slide_type": "slide"
    }
   },
   "source": [
    "* **Transforms of derivatives**\n",
    "\n",
    "  $\n",
    "  \\begin{align*}\n",
    "    \\mathcal{L}\\{f'(t)\\} &= sF(s) -f(0)\\\\ \n",
    "    \\mathcal{L}\\{f''(t)\\} &= s^2F(s) -sf(0) -f'(0)\\\\ \n",
    "    &\\; \\vdots  \n",
    "  \\end{align*}\n",
    "  $\n",
    "  \n",
    "  $\\displaystyle\\mathcal{L}\\left\\{\\frac{d^n f}{dt^n}\\right\\}$ depends on $F(s)=\\mathcal{L}\\{f(t)\\}$ and the $n-1$ derivatives of $f(t)$ evaluated at $t=0$\n",
    "  \n",
    "  $~$\n",
    "* If $f$ is piecewise continuous on $[0, \\infty]$ and of exponential order, then\n",
    "\n",
    "  $\\displaystyle\\lim_{s \\to \\infty} \\mathcal{L}\\{f(t)\\}=0$"
   ]
  },
  {
   "cell_type": "markdown",
   "metadata": {
    "slideshow": {
     "slide_type": "slide"
    }
   },
   "source": [
    "* The Laplace transform of a linear DE with constant coefficients becomes an algebraic equation in $Y(s)$\n",
    "\n",
    "  **Example:** $\\text{ }$ Use the Laplace transform to solve the IVP\n",
    "  \n",
    "  > $\\displaystyle\\frac{dy}{dt} +3y = 13\\sin 2t, \\;y(0)=6$"
   ]
  },
  {
   "cell_type": "code",
   "execution_count": null,
   "metadata": {
    "slideshow": {
     "slide_type": "fragment"
    }
   },
   "outputs": [],
   "source": [
    "Y = sympy.Function('Y')(s)\n",
    "\n",
    "eqn = sympy.Eq((s*Y -6) +3*Y, 13*laplace_transform(sympy.sin(2*t), t, s)[0]); eqn"
   ]
  },
  {
   "cell_type": "code",
   "execution_count": null,
   "metadata": {
    "slideshow": {
     "slide_type": "fragment"
    }
   },
   "outputs": [],
   "source": [
    "Yofs = sympy.solve(eqn, Y); Yofs[0]"
   ]
  },
  {
   "cell_type": "code",
   "execution_count": null,
   "metadata": {
    "slideshow": {
     "slide_type": "fragment"
    }
   },
   "outputs": [],
   "source": [
    "soln = inverse_laplace_transform(Yofs[0], s, t); soln.simplify()"
   ]
  },
  {
   "cell_type": "markdown",
   "metadata": {
    "slideshow": {
     "slide_type": "slide"
    }
   },
   "source": [
    "### Exercises 4.2\n",
    "\n",
    "* 1, 3, 5, 14, 16\n",
    "* 39, 41"
   ]
  },
  {
   "cell_type": "markdown",
   "metadata": {
    "slideshow": {
     "slide_type": "slide"
    }
   },
   "source": [
    "## 4.3 Translation Theorems"
   ]
  },
  {
   "cell_type": "markdown",
   "metadata": {
    "slideshow": {
     "slide_type": "fragment"
    }
   },
   "source": [
    "* **First Translation Theorem**\n",
    "\n",
    "  If $\\mathcal{L}\\{f(t)\\}=F(s)$ and $a$ ia any real number, then \n",
    "  \n",
    "  $$\\mathcal{L}\\{e^{-at}f(t)\\}=F(s+a)$$\n",
    "  \n",
    "  **Example:** $\\text{ }$ Evaluate $\\mathcal{L}\\{e^{-2t}\\cos 4t\\}$ and $\\displaystyle\\mathcal{L}^{-1}\\left\\{\\frac{2s +5}{(s +3)^2}\\right\\}$"
   ]
  },
  {
   "cell_type": "markdown",
   "metadata": {
    "slideshow": {
     "slide_type": "slide"
    }
   },
   "source": [
    "* **Second Translation Theorem**\n",
    "\n",
    "  If $\\mathcal{L}\\{f(t)\\}=F(s)$ and $a >0$, then \n",
    "  \n",
    "$$\\mathcal{L}\\{f(t -a)\\mathcal{U}(t -a)\\}=e^{-as}F(s)$$\n",
    "  \n",
    "  **Alternative Form**\n",
    "  \n",
    "$$\\displaystyle\\mathcal{L}\\{g(t)\\mathcal{U}(t -a)\\}=\\int_a^\\infty e^{-st} g(t)\\,dt=\\int_0^\\infty e^{-s(u+a)} g(u +a) \\,du=e^{-as} \\mathcal{L}\\{g(t+a)\\}$$\n",
    "  \n",
    "  **Example:** $\\text{ }$ Solve $y' +y = f(t)$, $~$$y(0)=5$, $~$where $f(t)=\\left\\{\\begin{matrix}\n",
    "\\;\\;\\;\\;\\;\\;\\, 0, & 0 \\leq t < \\pi\\\\ \n",
    "3\\cos t, & \\;\\;\\;\\;\\;t \\geq \\pi\n",
    "\\end{matrix}\\right.$"
   ]
  },
  {
   "cell_type": "code",
   "execution_count": null,
   "metadata": {
    "slideshow": {
     "slide_type": "slide"
    }
   },
   "outputs": [],
   "source": [
    "Y = sympy.Function('Y')(s)\n",
    "F = laplace_transform(3*sympy.cos(t), t, s)[0] *laplace_transform(sympy.Heaviside(t -sympy.pi), t, s)[0]; F "
   ]
  },
  {
   "cell_type": "code",
   "execution_count": null,
   "metadata": {
    "slideshow": {
     "slide_type": "fragment"
    }
   },
   "outputs": [],
   "source": [
    "Yofs = sympy.solve(sympy.Eq((s*Y -5) +Y, F), Y); Yofs"
   ]
  },
  {
   "cell_type": "code",
   "execution_count": null,
   "metadata": {
    "slideshow": {
     "slide_type": "fragment"
    }
   },
   "outputs": [],
   "source": [
    "soln = inverse_laplace_transform(Yofs[0], s, t); soln.simplify()"
   ]
  },
  {
   "cell_type": "markdown",
   "metadata": {
    "slideshow": {
     "slide_type": "slide"
    }
   },
   "source": [
    "### Exercises 4.3\n",
    "\n",
    "* 1, 4, 7, 17, 19\n",
    "* 21, 23\n",
    "* 37, 39, 43, 45\n",
    "* 69, 70"
   ]
  },
  {
   "cell_type": "markdown",
   "metadata": {
    "slideshow": {
     "slide_type": "slide"
    }
   },
   "source": [
    "## 4.4 Additional Operational Properties"
   ]
  },
  {
   "cell_type": "markdown",
   "metadata": {
    "slideshow": {
     "slide_type": "fragment"
    }
   },
   "source": [
    "* **Derivatives of Transforms:** $\\text{ }$ If $F(s)=\\mathcal{L}\\{f(t)\\}$ and $n=1,2,\\cdots$, then\n",
    "\n",
    "  $$\\displaystyle\\mathcal{L}\\{t^nf(t)\\}=(-1)^n \\frac{d^n}{ds^n} F(s)$$\n",
    "  \n",
    "  **Example:** $\\text{ }$ Evaluate $\\mathcal{L}\\{t\\sin \\omega t\\}$\n",
    "  \n",
    "  **Example:** $\\text{ }$ Solve $x'' +16x =\\cos 4t, \\; x(0)=1, \\; x'(0)=1$"
   ]
  },
  {
   "cell_type": "markdown",
   "metadata": {
    "slideshow": {
     "slide_type": "subslide"
    }
   },
   "source": [
    "* **Convolution Theorem:** $\\text{ }$ $\\displaystyle f*g=\\int_0^t f(\\tau)g(t -\\tau)\\, d\\tau$\n",
    "\n",
    "  $$\\mathcal{L}\\{f*g\\}=\\mathcal{L}\\{f(t)\\} \\mathcal{L}\\{g(t)\\} =F(s) G(s)$$\n",
    "  \n",
    "  **Example:** $\\text{ }$ Evaluate $\\displaystyle\\mathcal{L}^{-1}\\left\\{\\frac{1}{(s^2 +\\omega^2)^2}\\right\\}$\n",
    "  \n",
    "  **Example:** $\\text{ }$ Evaluate $\\displaystyle\\mathcal{L} \\left\\{ \\int_0^t f(\\tau)\\, d\\tau \\right\\}$\n",
    "  \n",
    "  **Example:** $\\text{ }$ Solve $\\displaystyle f(t) =3t^2 -e^{-t} -\\int_0^t f(\\tau)\\, e^{t -\\tau}\\, d\\tau\\;$ for $f(t)$"
   ]
  },
  {
   "cell_type": "markdown",
   "metadata": {
    "slideshow": {
     "slide_type": "subslide"
    }
   },
   "source": [
    "* **Transform of a Periodic Function:** $\\text{ }$ $f(t+T)=f(t)$\n",
    "\n",
    "  $$\\displaystyle\\mathcal{L}\\{f(t)\\}=\\frac{1}{1-e^{-sT}} \\int_0^T e^{-st} f(t) \\,dt$$\n",
    "  \n",
    "  **Example:** $\\text{ }$ Find the Laplace transform of the periodic function\n",
    "  \n",
    "  ![Square wave](figures/ch04_figure01.png)\n",
    "  \n",
    "  $\\displaystyle\\mathcal{L}\\{E(t)\\}=\\frac{1}{1 -e^{-2s}} \\int_0^2 e^{-st} E(t)\\,dt=\\frac{1}{s(1 +e^{-s})}$"
   ]
  },
  {
   "cell_type": "markdown",
   "metadata": {
    "slideshow": {
     "slide_type": "slide"
    }
   },
   "source": [
    "### Exercises 4.4\n",
    "\n",
    "* 1, 3, 7\n",
    "* 9, 11\n",
    "* 23, 25, 29\n",
    "* 41, 50, 57, 63, 64\n",
    "* 68, 69"
   ]
  },
  {
   "cell_type": "markdown",
   "metadata": {
    "slideshow": {
     "slide_type": "slide"
    }
   },
   "source": [
    "## 4.5 The Dirac Delta Function"
   ]
  },
  {
   "cell_type": "markdown",
   "metadata": {
    "cell_style": "split",
    "slideshow": {
     "slide_type": "fragment"
    }
   },
   "source": [
    "<center><img src=\"./figures/ch04_figure02.png\" alt=\"dirac delta function\" width=\"350\"/></center>"
   ]
  },
  {
   "cell_type": "markdown",
   "metadata": {
    "cell_style": "split",
    "slideshow": {
     "slide_type": "fragment"
    }
   },
   "source": [
    "* **Unit Impulse** \n",
    "  \n",
    "  $\n",
    "  \\delta_a(t-t_0) = \\left\\{\\begin{matrix}\n",
    "    0, & \\;\\;\\;\\;\\;\\; 0 \\leq t < t_0 -a\\\\ \n",
    "    \\frac{1}{2a}, & t_0 -a \\leq t \\leq t_0 +a\\\\ \n",
    "    0, & \\;\\; t \\geq t_0 +a\n",
    "  \\end{matrix}\\right.\n",
    "  $"
   ]
  },
  {
   "cell_type": "markdown",
   "metadata": {
    "slideshow": {
     "slide_type": "subslide"
    }
   },
   "source": [
    "* **The Dirac Delta Function**\n",
    "\n",
    "  $$\\displaystyle\\delta(t -t_0)=\\lim_{a \\to 0} \\,\\delta_a(t -t_0)$$\n",
    "  \n",
    "  $$\\displaystyle\\mathcal{L}\\{\\delta(t -t_0)\\}=\\lim_{a \\to 0} \\mathcal{L}\\{\\delta_a(t -t_0)\\}=e^{-st_0}\\lim_{a \\to 0} \\left(\\frac{e^{sa} -e^{-sa}}{2sa}\\right)=e^{-st_0}$$\n",
    "  \n",
    "  When $~$$t_0=0$, $~$$\\displaystyle\\mathcal{L}\\{\\delta(t)\\}=1$\n",
    "  \n",
    "  **Example:** $\\text{ }$ Solve $y'' +y=4\\delta(t -2\\pi)$ $~$subject to $y(0)=1, \\;y'(0)=0$"
   ]
  },
  {
   "cell_type": "markdown",
   "metadata": {
    "slideshow": {
     "slide_type": "slide"
    }
   },
   "source": [
    "### Exercises 4.5\n",
    "\n",
    "* 1, 3, 5"
   ]
  },
  {
   "cell_type": "markdown",
   "metadata": {
    "slideshow": {
     "slide_type": "slide"
    }
   },
   "source": [
    "## 4.6 Systems of Linear Differential Equations"
   ]
  },
  {
   "cell_type": "markdown",
   "metadata": {
    "slideshow": {
     "slide_type": "fragment"
    }
   },
   "source": [
    "When initial conditions are specified, $~$the Laplace transform reduces a system of linear DEs to a set of simultaneous algebraic equations in the transformed functions"
   ]
  },
  {
   "cell_type": "markdown",
   "metadata": {
    "cell_style": "split",
    "slideshow": {
     "slide_type": "fragment"
    }
   },
   "source": [
    "**Example:** $\\text{ } $ Double Pendulum\n",
    "\n",
    "<center><img src=\"./figures/ch04_figure03.png\" alt=\"Double Pendulum\" width=\"350\"/></center>"
   ]
  },
  {
   "cell_type": "markdown",
   "metadata": {
    "cell_style": "split",
    "slideshow": {
     "slide_type": "fragment"
    }
   },
   "source": [
    "For small displacements $\\theta_1$ and $\\theta_2$,\n",
    "\n",
    "$\\begin{align*}\n",
    "(m_1 +m_2) l_1 \\ddot{\\theta_1} +m_2 l_2 \\ddot{\\theta_2} +(m_1 +m_2) g \\,\\theta_1 &= 0\\\\ \n",
    " l_2 \\ddot{\\theta_2} +l_1 \\ddot{\\theta_1} +g \\,\\theta_2 &= 0\n",
    "\\end{align*}$\n",
    "\n",
    "$~$\n",
    "Solve system when $m_1=3$, $m_2=1$, $l_1=l_2=16$, \n",
    "\n",
    "$~$\n",
    "$\\theta_1(0) = 1$, $\\theta_2(0)=-1$, $\\dot{\\theta_1}(0)=0$, $~$and$~$ $\\dot{\\theta_2}(0)=0$"
   ]
  },
  {
   "cell_type": "markdown",
   "metadata": {
    "slideshow": {
     "slide_type": "slide"
    }
   },
   "source": [
    "### Exercises 4.6\n",
    "\n",
    "* 1, 3, 5, 14"
   ]
  }
 ],
 "metadata": {
  "celltoolbar": "Slideshow",
  "kernelspec": {
   "display_name": "Python 3 (ipykernel)",
   "language": "python",
   "name": "python3"
  },
  "language_info": {
   "codemirror_mode": {
    "name": "ipython",
    "version": 3
   },
   "file_extension": ".py",
   "mimetype": "text/x-python",
   "name": "python",
   "nbconvert_exporter": "python",
   "pygments_lexer": "ipython3",
   "version": "3.8.12"
  }
 },
 "nbformat": 4,
 "nbformat_minor": 4
}
