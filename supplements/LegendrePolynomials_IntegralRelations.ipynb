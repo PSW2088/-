{
 "cells": [
  {
   "cell_type": "markdown",
   "metadata": {
    "slideshow": {
     "slide_type": "skip"
    }
   },
   "source": [
    "[![Open In Colab](https://colab.research.google.com/assets/colab-badge.svg)](https://colab.research.google.com/github/SeoulTechPSE/EngMath/blob/master/supplements/LegendrePolynomials_IntegralRelations.ipynb)"
   ]
  },
  {
   "cell_type": "markdown",
   "metadata": {
    "slideshow": {
     "slide_type": "slide"
    }
   },
   "source": [
    "## **Legendre Polynomials Integral Relations** "
   ]
  },
  {
   "cell_type": "markdown",
   "metadata": {
    "slideshow": {
     "slide_type": "fragment"
    }
   },
   "source": [
    "  We consider the function $B(a, b)$ defined by\n",
    "  \n",
    "  >$\\displaystyle B(a, b)=\\int_0^1 t^a (1 -t)^b\\,dt$\n",
    "  \n",
    "  A partial integration shows\n",
    "  \n",
    "  >$\\displaystyle\n",
    "   B(a, b)=\\int_0^1 t^a (1 -t)^b\\,dt=\\frac{b}{a +1} \\int_0^1 t^{a +1} (1 -t)^{b -1}\\,dt\n",
    "   =\\frac{b}{a +1} B(a +1, b -1)\n",
    "  $\n",
    "   \n",
    "  Since $\\displaystyle B(a +b, 0)=\\frac{1}{a +b +1}$, it then follows rather easily\n",
    "  \n",
    "  >$\\displaystyle \n",
    "    \\begin{align*}\n",
    "     B(a,b)&= \\frac{b}{a +1} B(a+1,b-1)\\\\ \n",
    "     &= \\frac{b}{a +1} \\frac{b-1}{a +2} B(a+2,b-2)\\\\ \n",
    "     &= \\frac{b}{a +1} \\frac{b-1}{a +2} \\frac{b-2}{a +3} B(a+3, b-3)\\\\ \n",
    "     &\\;\\vdots \\\\ \n",
    "     &= \\frac{b}{a +1} \\frac{b-1}{a +2} \\frac{b-2}{a +3} \\cdots \\frac{1}{a +b} B(a+b,0)\n",
    "     = \\frac{a! b!}{(a +b +1)!}\n",
    "    \\end{align*}$\n",
    "    \n",
    "   Then we deduce\n",
    "   \n",
    "   >$\n",
    "   \\begin{align*}\n",
    "   \\int_{-1}^1 (1 -x^2)^l\\, dx &= \\int_{-1}^1 (1 +x)^l (1 -x)^l\\, dx\\\\ \n",
    "   &\\;\\big\\Downarrow \\; x= 2t-1 \\\\ \n",
    "   &= 2^{2l +1} \\int_0^1 t^l (1 -t)^l\\, dt \n",
    "   = 2^{2l +1} B(l,l)\n",
    "   = 2^{2l +1} \\frac{l!l!}{(2l+1)!}\n",
    "   \\end{align*}\n",
    "   $\n",
    "   \n",
    "   **Let us now show that**\n",
    "   \n",
    "   >$\\displaystyle\n",
    "    \\int_{-1}^1 P_k(x) P_l(x) \\,dx = \\delta_{k,l} \\frac{2}{2l +1},\\;\\;k \\leq l\n",
    "   $\n",
    "   \n",
    "   Plugging Rodrigues' formula, we have\n",
    "   \n",
    "   >$\\displaystyle\n",
    "    \\int_{-1}^1 P_k(x) P_l(x) \\,dx \n",
    "    =\\frac{1}{2^{k +l} k! l!} \\int_{-1}^1 \\frac{d^k}{dx^k} \\left(x^2 -1\\right)^k\n",
    "    \\frac{d^l}{dx^l} \\left(x^2 -1\\right)^l \\,dx\n",
    "   $\n",
    "   \n",
    "   Since $\\displaystyle\\frac{d^a}{dx^a} \\left(x^2 -1\\right)^b$ vanishes at $x = \\pm 1$ if $a < b$, partial integration leads to\n",
    "   \n",
    "   >$\\displaystyle\n",
    "    \\int_{-1}^1 P_k(x) P_l(x) \\,dx \n",
    "    =\\frac{(-1)^l}{2^{k +l} k! l!} \\int_{-1}^1 \\frac{d^{k +1}}{dx^{k +l}} \\left(x^2 -1\\right)^k \n",
    "    \\cdot\\left(x^2 -1\\right)^l \\,dx\n",
    "   $\n",
    "   \n",
    "   If $k \\neq l$, we may assume $l > k$ and then $\\displaystyle \\frac{d^{k+l}}{dx^{k +l}}(x^2 − 1)^k = 0$.\n",
    "   Hence the integral vanishes. When $k = l$, we use \n",
    "   \n",
    "   >$\\displaystyle \\frac{d^{2l}}{dx^{2l}}(x^2 -1)^l = \\frac{d^{2l}}{dx^{2l}}x^{2l}=(2l)!\\;$\n",
    "   and $\\;\\left(x^2 -1\\right)^l=(-1)^l \\left(1 -x^2\\right)^l $\n",
    "   \n",
    "   to find\n",
    "   \n",
    "   >$\n",
    "    \\displaystyle\n",
    "    \\int_{-1}^1 P_l^2(x) \\,dx \n",
    "    =\\frac{(2l)!}{2^{2l} l! l!} \\int_{-1}^1 \\left(1 -x^2\\right)^l \\,dx =\\frac{2}{2l +1}\n",
    "   $\n",
    "   \n",
    "   **Let us now show that**\n",
    "   \n",
    "   >$\n",
    "    \\displaystyle\n",
    "    \\int_{-1}^1 x P_s(x) P_r(x) \\,dx = \\delta_{r,s +1} \\frac{2r}{(2r -1)(2r +1)}, \\; r \\geq s \n",
    "   $\n",
    "   \n",
    "   First we consider the case that $r = s$. In this case the integral is easily found to be zero:\n",
    "   $P_r$ has parity $(-1)^r$, and thus $x(P_r)^2$ has parity $-1$. Therefore the integral over \n",
    "   the symmetric interval $[-1,\\; 1]$ vanishes.\n",
    "   \n",
    "   Now we consider the case $r > s$. We find, using Rodrigues' formula, partial integration\n",
    "   and $(xf)^{(n)} = xf^{(n)}+nf^{(n -1)}$,\n",
    " \n",
    "   >$\n",
    "   \\displaystyle\n",
    "   \\begin{align*}\n",
    "    \\int_{-1}^1 x P_s(x) P_r(x) \\,dx &= \\frac{1}{2^{s +r} s! r!} \\int_{-1}^1 x \\frac{d^s}{dx^s}\n",
    "    \\left(x^2 -1\\right)^s \\frac{d^r}{dx^r} \\left(x^2 -1\\right)^r \\,dx\\\\\n",
    "    &=\\frac{(-1)^r}{2^{s +r} s! r!} \\int_{-1}^1\n",
    "    \\left[ x \\frac{d^{s +r}}{dx^{s +r}} \\left(x^2 -1\\right)^s \n",
    "    +r\\frac{d^{s +r -1}}{dx^{s +r -1}} \\left(x^2 -1\\right)^s \\right] \\left(x^2 -1\\right)^r \\,dx\n",
    "   \\end{align*}\n",
    "   $\n",
    "   \n",
    "   We see that the first term vanishes since $r > s$; the second term only survives if $r -1 \\leq s$.\n",
    "   Hence we need only consider the case $s = r -1$.\n",
    "   \n",
    "   >$\n",
    "    \\displaystyle\n",
    "    \\begin{align*}\n",
    "     \\int_{-1}^1 x P_{r -1}(x) P_r(x) \\,dx \n",
    "     =\\frac{(-1)^r}{2^{2r-1} (r -1)! r!} \\int_{-1}^1 \\left[ r \\frac{d^{2r -2}}{dx^{2r -2}} \n",
    "     \\left(x^2 -1\\right)^{r -1} \\right ] \\left(x^2 -1\\right)^r \\,dx\n",
    "    \\end{align*}\n",
    "   $\n",
    "   \n",
    "   We find, again using Rodrigues' formula, partial integration and $(xf)^{(n)} = xf^{(n)}+nf^{(n -1)}$,\n",
    "   but also that the $(2r -2)$-th derivative of $(x^2 -1)^{r -1}$ equals $(2r -2)!$, that\n",
    "   \n",
    "   >$\\displaystyle\n",
    "    \\begin{align*}\n",
    "     \\int_{-1}^1 x P_{r -1}(x) P_r(x) \\,dx \n",
    "     =\\frac{r(2r -2)!}{2^{2r-1} (r -1)! r!} \\int_{-1}^1 \\left(1 -x^2\\right)^r \\,dx\n",
    "     =\\frac{2r}{(2r -1)(2r +1)}\n",
    "    \\end{align*}\n",
    "   $   "
   ]
  }
 ],
 "metadata": {
  "celltoolbar": "Slideshow",
  "kernelspec": {
   "display_name": "Python 3 (ipykernel)",
   "language": "python",
   "name": "python3"
  },
  "language_info": {
   "codemirror_mode": {
    "name": "ipython",
    "version": 3
   },
   "file_extension": ".py",
   "mimetype": "text/x-python",
   "name": "python",
   "nbconvert_exporter": "python",
   "pygments_lexer": "ipython3",
   "version": "3.8.12"
  }
 },
 "nbformat": 4,
 "nbformat_minor": 4
}
